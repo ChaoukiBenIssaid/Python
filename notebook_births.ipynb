{
 "cells": [
  {
   "cell_type": "markdown",
   "metadata": {},
   "source": [
    "In this file, we extract the number of births for each day of the week from the file \"births.csv\"."
   ]
  },
  {
   "cell_type": "code",
   "execution_count": 21,
   "metadata": {},
   "outputs": [
    {
     "data": {
      "text/plain": [
       "{'6': 4562111,\n",
       " '7': 4079723,\n",
       " '1': 5789166,\n",
       " '2': 6446196,\n",
       " '3': 6322855,\n",
       " '4': 6288429,\n",
       " '5': 6233657}"
      ]
     },
     "execution_count": 21,
     "metadata": {},
     "output_type": "execute_result"
    }
   ],
   "source": [
    "# reading the csv file\n",
    "f = open(\"births.csv\", 'r')\n",
    "text = f.read()\n",
    "f.close()\n",
    "\n",
    "#splitting the text into a list where the elements are the lines of the text file\n",
    "lines_list = text.split(\"\\n\")\n",
    "\n",
    "# remove the header\n",
    "data_no_header = lines_list[1:len(lines_list)]\n",
    "# initialise the dictionnary days_counts\n",
    "days_counts = dict()\n",
    "\n",
    "# iterate line by line and increment the number of births for each day of the week\n",
    "for line in data_no_header:\n",
    "    split_line = line.split(\",\")\n",
    "    day_of_week = split_line[3]\n",
    "    num_births = int(split_line[4])\n",
    "\n",
    "    if day_of_week in days_counts:\n",
    "        days_counts[day_of_week] = days_counts[day_of_week] + num_births\n",
    "    else:\n",
    "        days_counts[day_of_week] = num_births\n",
    "\n",
    "#printing the birth counts for each day\n",
    "days_counts"
   ]
  }
 ],
 "metadata": {
  "anaconda-cloud": {},
  "kernelspec": {
   "display_name": "Python 3",
   "language": "python",
   "name": "python3"
  },
  "language_info": {
   "codemirror_mode": {
    "name": "ipython",
    "version": 3
   },
   "file_extension": ".py",
   "mimetype": "text/x-python",
   "name": "python",
   "nbconvert_exporter": "python",
   "pygments_lexer": "ipython3",
   "version": "3.6.7"
  }
 },
 "nbformat": 4,
 "nbformat_minor": 1
}
