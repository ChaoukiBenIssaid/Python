{
 "cells": [
  {
   "cell_type": "markdown",
   "metadata": {
    "collapsed": true
   },
   "source": [
    "In this notebook, we will work with a dataset on the job outcomes of students who graduated from college between 2010 and 2012. All data is from American Community Survey 2010-2012 Public Use Microdata Series. Using visualizations, we can start to explore and answer some questions from the dataset."
   ]
  },
  {
   "cell_type": "code",
   "execution_count": 1,
   "metadata": {},
   "outputs": [],
   "source": [
    "# import libraries\n",
    "import pandas as pd\n",
    "import matplotlib.pyplot as plt\n",
    "%matplotlib inline"
   ]
  },
  {
   "cell_type": "code",
   "execution_count": 2,
   "metadata": {},
   "outputs": [],
   "source": [
    "# read the dataset\n",
    "recent_grads = pd.read_csv('recent-grads.csv')"
   ]
  },
  {
   "cell_type": "code",
   "execution_count": 3,
   "metadata": {},
   "outputs": [
    {
     "data": {
      "text/plain": [
       "Index(['Rank', 'Major_code', 'Major', 'Total', 'Men', 'Women',\n",
       "       'Major_category', 'ShareWomen', 'Sample_size', 'Employed', 'Full_time',\n",
       "       'Part_time', 'Full_time_year_round', 'Unemployed', 'Unemployment_rate',\n",
       "       'Median', 'P25th', 'P75th', 'College_jobs', 'Non_college_jobs',\n",
       "       'Low_wage_jobs'],\n",
       "      dtype='object')"
      ]
     },
     "execution_count": 3,
     "metadata": {},
     "output_type": "execute_result"
    }
   ],
   "source": [
    "# columns of the dataset\n",
    "recent_grads.columns"
   ]
  },
  {
   "cell_type": "code",
   "execution_count": 4,
   "metadata": {},
   "outputs": [
    {
     "data": {
      "text/html": [
       "<div>\n",
       "<style scoped>\n",
       "    .dataframe tbody tr th:only-of-type {\n",
       "        vertical-align: middle;\n",
       "    }\n",
       "\n",
       "    .dataframe tbody tr th {\n",
       "        vertical-align: top;\n",
       "    }\n",
       "\n",
       "    .dataframe thead th {\n",
       "        text-align: right;\n",
       "    }\n",
       "</style>\n",
       "<table border=\"1\" class=\"dataframe\">\n",
       "  <thead>\n",
       "    <tr style=\"text-align: right;\">\n",
       "      <th></th>\n",
       "      <th>Rank</th>\n",
       "      <th>Major_code</th>\n",
       "      <th>Major</th>\n",
       "      <th>Total</th>\n",
       "      <th>Men</th>\n",
       "      <th>Women</th>\n",
       "      <th>Major_category</th>\n",
       "      <th>ShareWomen</th>\n",
       "      <th>Sample_size</th>\n",
       "      <th>Employed</th>\n",
       "      <th>...</th>\n",
       "      <th>Part_time</th>\n",
       "      <th>Full_time_year_round</th>\n",
       "      <th>Unemployed</th>\n",
       "      <th>Unemployment_rate</th>\n",
       "      <th>Median</th>\n",
       "      <th>P25th</th>\n",
       "      <th>P75th</th>\n",
       "      <th>College_jobs</th>\n",
       "      <th>Non_college_jobs</th>\n",
       "      <th>Low_wage_jobs</th>\n",
       "    </tr>\n",
       "  </thead>\n",
       "  <tbody>\n",
       "    <tr>\n",
       "      <th>0</th>\n",
       "      <td>1</td>\n",
       "      <td>2419</td>\n",
       "      <td>PETROLEUM ENGINEERING</td>\n",
       "      <td>2339.0</td>\n",
       "      <td>2057.0</td>\n",
       "      <td>282.0</td>\n",
       "      <td>Engineering</td>\n",
       "      <td>0.120564</td>\n",
       "      <td>36</td>\n",
       "      <td>1976</td>\n",
       "      <td>...</td>\n",
       "      <td>270</td>\n",
       "      <td>1207</td>\n",
       "      <td>37</td>\n",
       "      <td>0.018381</td>\n",
       "      <td>110000</td>\n",
       "      <td>95000</td>\n",
       "      <td>125000</td>\n",
       "      <td>1534</td>\n",
       "      <td>364</td>\n",
       "      <td>193</td>\n",
       "    </tr>\n",
       "    <tr>\n",
       "      <th>1</th>\n",
       "      <td>2</td>\n",
       "      <td>2416</td>\n",
       "      <td>MINING AND MINERAL ENGINEERING</td>\n",
       "      <td>756.0</td>\n",
       "      <td>679.0</td>\n",
       "      <td>77.0</td>\n",
       "      <td>Engineering</td>\n",
       "      <td>0.101852</td>\n",
       "      <td>7</td>\n",
       "      <td>640</td>\n",
       "      <td>...</td>\n",
       "      <td>170</td>\n",
       "      <td>388</td>\n",
       "      <td>85</td>\n",
       "      <td>0.117241</td>\n",
       "      <td>75000</td>\n",
       "      <td>55000</td>\n",
       "      <td>90000</td>\n",
       "      <td>350</td>\n",
       "      <td>257</td>\n",
       "      <td>50</td>\n",
       "    </tr>\n",
       "    <tr>\n",
       "      <th>2</th>\n",
       "      <td>3</td>\n",
       "      <td>2415</td>\n",
       "      <td>METALLURGICAL ENGINEERING</td>\n",
       "      <td>856.0</td>\n",
       "      <td>725.0</td>\n",
       "      <td>131.0</td>\n",
       "      <td>Engineering</td>\n",
       "      <td>0.153037</td>\n",
       "      <td>3</td>\n",
       "      <td>648</td>\n",
       "      <td>...</td>\n",
       "      <td>133</td>\n",
       "      <td>340</td>\n",
       "      <td>16</td>\n",
       "      <td>0.024096</td>\n",
       "      <td>73000</td>\n",
       "      <td>50000</td>\n",
       "      <td>105000</td>\n",
       "      <td>456</td>\n",
       "      <td>176</td>\n",
       "      <td>0</td>\n",
       "    </tr>\n",
       "    <tr>\n",
       "      <th>3</th>\n",
       "      <td>4</td>\n",
       "      <td>2417</td>\n",
       "      <td>NAVAL ARCHITECTURE AND MARINE ENGINEERING</td>\n",
       "      <td>1258.0</td>\n",
       "      <td>1123.0</td>\n",
       "      <td>135.0</td>\n",
       "      <td>Engineering</td>\n",
       "      <td>0.107313</td>\n",
       "      <td>16</td>\n",
       "      <td>758</td>\n",
       "      <td>...</td>\n",
       "      <td>150</td>\n",
       "      <td>692</td>\n",
       "      <td>40</td>\n",
       "      <td>0.050125</td>\n",
       "      <td>70000</td>\n",
       "      <td>43000</td>\n",
       "      <td>80000</td>\n",
       "      <td>529</td>\n",
       "      <td>102</td>\n",
       "      <td>0</td>\n",
       "    </tr>\n",
       "    <tr>\n",
       "      <th>4</th>\n",
       "      <td>5</td>\n",
       "      <td>2405</td>\n",
       "      <td>CHEMICAL ENGINEERING</td>\n",
       "      <td>32260.0</td>\n",
       "      <td>21239.0</td>\n",
       "      <td>11021.0</td>\n",
       "      <td>Engineering</td>\n",
       "      <td>0.341631</td>\n",
       "      <td>289</td>\n",
       "      <td>25694</td>\n",
       "      <td>...</td>\n",
       "      <td>5180</td>\n",
       "      <td>16697</td>\n",
       "      <td>1672</td>\n",
       "      <td>0.061098</td>\n",
       "      <td>65000</td>\n",
       "      <td>50000</td>\n",
       "      <td>75000</td>\n",
       "      <td>18314</td>\n",
       "      <td>4440</td>\n",
       "      <td>972</td>\n",
       "    </tr>\n",
       "  </tbody>\n",
       "</table>\n",
       "<p>5 rows × 21 columns</p>\n",
       "</div>"
      ],
      "text/plain": [
       "   Rank  Major_code                                      Major    Total  \\\n",
       "0     1        2419                      PETROLEUM ENGINEERING   2339.0   \n",
       "1     2        2416             MINING AND MINERAL ENGINEERING    756.0   \n",
       "2     3        2415                  METALLURGICAL ENGINEERING    856.0   \n",
       "3     4        2417  NAVAL ARCHITECTURE AND MARINE ENGINEERING   1258.0   \n",
       "4     5        2405                       CHEMICAL ENGINEERING  32260.0   \n",
       "\n",
       "       Men    Women Major_category  ShareWomen  Sample_size  Employed  \\\n",
       "0   2057.0    282.0    Engineering    0.120564           36      1976   \n",
       "1    679.0     77.0    Engineering    0.101852            7       640   \n",
       "2    725.0    131.0    Engineering    0.153037            3       648   \n",
       "3   1123.0    135.0    Engineering    0.107313           16       758   \n",
       "4  21239.0  11021.0    Engineering    0.341631          289     25694   \n",
       "\n",
       "       ...        Part_time  Full_time_year_round  Unemployed  \\\n",
       "0      ...              270                  1207          37   \n",
       "1      ...              170                   388          85   \n",
       "2      ...              133                   340          16   \n",
       "3      ...              150                   692          40   \n",
       "4      ...             5180                 16697        1672   \n",
       "\n",
       "   Unemployment_rate  Median  P25th   P75th  College_jobs  Non_college_jobs  \\\n",
       "0           0.018381  110000  95000  125000          1534               364   \n",
       "1           0.117241   75000  55000   90000           350               257   \n",
       "2           0.024096   73000  50000  105000           456               176   \n",
       "3           0.050125   70000  43000   80000           529               102   \n",
       "4           0.061098   65000  50000   75000         18314              4440   \n",
       "\n",
       "   Low_wage_jobs  \n",
       "0            193  \n",
       "1             50  \n",
       "2              0  \n",
       "3              0  \n",
       "4            972  \n",
       "\n",
       "[5 rows x 21 columns]"
      ]
     },
     "execution_count": 4,
     "metadata": {},
     "output_type": "execute_result"
    }
   ],
   "source": [
    "# print the first rows of the dataset\n",
    "recent_grads.head()"
   ]
  },
  {
   "cell_type": "code",
   "execution_count": 5,
   "metadata": {},
   "outputs": [
    {
     "data": {
      "text/html": [
       "<div>\n",
       "<style scoped>\n",
       "    .dataframe tbody tr th:only-of-type {\n",
       "        vertical-align: middle;\n",
       "    }\n",
       "\n",
       "    .dataframe tbody tr th {\n",
       "        vertical-align: top;\n",
       "    }\n",
       "\n",
       "    .dataframe thead th {\n",
       "        text-align: right;\n",
       "    }\n",
       "</style>\n",
       "<table border=\"1\" class=\"dataframe\">\n",
       "  <thead>\n",
       "    <tr style=\"text-align: right;\">\n",
       "      <th></th>\n",
       "      <th>Rank</th>\n",
       "      <th>Major_code</th>\n",
       "      <th>Total</th>\n",
       "      <th>Men</th>\n",
       "      <th>Women</th>\n",
       "      <th>ShareWomen</th>\n",
       "      <th>Sample_size</th>\n",
       "      <th>Employed</th>\n",
       "      <th>Full_time</th>\n",
       "      <th>Part_time</th>\n",
       "      <th>Full_time_year_round</th>\n",
       "      <th>Unemployed</th>\n",
       "      <th>Unemployment_rate</th>\n",
       "      <th>Median</th>\n",
       "      <th>P25th</th>\n",
       "      <th>P75th</th>\n",
       "      <th>College_jobs</th>\n",
       "      <th>Non_college_jobs</th>\n",
       "      <th>Low_wage_jobs</th>\n",
       "    </tr>\n",
       "  </thead>\n",
       "  <tbody>\n",
       "    <tr>\n",
       "      <th>count</th>\n",
       "      <td>173.000000</td>\n",
       "      <td>173.000000</td>\n",
       "      <td>172.000000</td>\n",
       "      <td>172.000000</td>\n",
       "      <td>172.000000</td>\n",
       "      <td>172.000000</td>\n",
       "      <td>173.000000</td>\n",
       "      <td>173.000000</td>\n",
       "      <td>173.000000</td>\n",
       "      <td>173.000000</td>\n",
       "      <td>173.000000</td>\n",
       "      <td>173.000000</td>\n",
       "      <td>173.000000</td>\n",
       "      <td>173.000000</td>\n",
       "      <td>173.000000</td>\n",
       "      <td>173.000000</td>\n",
       "      <td>173.000000</td>\n",
       "      <td>173.000000</td>\n",
       "      <td>173.000000</td>\n",
       "    </tr>\n",
       "    <tr>\n",
       "      <th>mean</th>\n",
       "      <td>87.000000</td>\n",
       "      <td>3879.815029</td>\n",
       "      <td>39370.081395</td>\n",
       "      <td>16723.406977</td>\n",
       "      <td>22646.674419</td>\n",
       "      <td>0.522223</td>\n",
       "      <td>356.080925</td>\n",
       "      <td>31192.763006</td>\n",
       "      <td>26029.306358</td>\n",
       "      <td>8832.398844</td>\n",
       "      <td>19694.427746</td>\n",
       "      <td>2416.329480</td>\n",
       "      <td>0.068191</td>\n",
       "      <td>40151.445087</td>\n",
       "      <td>29501.445087</td>\n",
       "      <td>51494.219653</td>\n",
       "      <td>12322.635838</td>\n",
       "      <td>13284.497110</td>\n",
       "      <td>3859.017341</td>\n",
       "    </tr>\n",
       "    <tr>\n",
       "      <th>std</th>\n",
       "      <td>50.084928</td>\n",
       "      <td>1687.753140</td>\n",
       "      <td>63483.491009</td>\n",
       "      <td>28122.433474</td>\n",
       "      <td>41057.330740</td>\n",
       "      <td>0.231205</td>\n",
       "      <td>618.361022</td>\n",
       "      <td>50675.002241</td>\n",
       "      <td>42869.655092</td>\n",
       "      <td>14648.179473</td>\n",
       "      <td>33160.941514</td>\n",
       "      <td>4112.803148</td>\n",
       "      <td>0.030331</td>\n",
       "      <td>11470.181802</td>\n",
       "      <td>9166.005235</td>\n",
       "      <td>14906.279740</td>\n",
       "      <td>21299.868863</td>\n",
       "      <td>23789.655363</td>\n",
       "      <td>6944.998579</td>\n",
       "    </tr>\n",
       "    <tr>\n",
       "      <th>min</th>\n",
       "      <td>1.000000</td>\n",
       "      <td>1100.000000</td>\n",
       "      <td>124.000000</td>\n",
       "      <td>119.000000</td>\n",
       "      <td>0.000000</td>\n",
       "      <td>0.000000</td>\n",
       "      <td>2.000000</td>\n",
       "      <td>0.000000</td>\n",
       "      <td>111.000000</td>\n",
       "      <td>0.000000</td>\n",
       "      <td>111.000000</td>\n",
       "      <td>0.000000</td>\n",
       "      <td>0.000000</td>\n",
       "      <td>22000.000000</td>\n",
       "      <td>18500.000000</td>\n",
       "      <td>22000.000000</td>\n",
       "      <td>0.000000</td>\n",
       "      <td>0.000000</td>\n",
       "      <td>0.000000</td>\n",
       "    </tr>\n",
       "    <tr>\n",
       "      <th>25%</th>\n",
       "      <td>44.000000</td>\n",
       "      <td>2403.000000</td>\n",
       "      <td>4549.750000</td>\n",
       "      <td>2177.500000</td>\n",
       "      <td>1778.250000</td>\n",
       "      <td>0.336026</td>\n",
       "      <td>39.000000</td>\n",
       "      <td>3608.000000</td>\n",
       "      <td>3154.000000</td>\n",
       "      <td>1030.000000</td>\n",
       "      <td>2453.000000</td>\n",
       "      <td>304.000000</td>\n",
       "      <td>0.050306</td>\n",
       "      <td>33000.000000</td>\n",
       "      <td>24000.000000</td>\n",
       "      <td>42000.000000</td>\n",
       "      <td>1675.000000</td>\n",
       "      <td>1591.000000</td>\n",
       "      <td>340.000000</td>\n",
       "    </tr>\n",
       "    <tr>\n",
       "      <th>50%</th>\n",
       "      <td>87.000000</td>\n",
       "      <td>3608.000000</td>\n",
       "      <td>15104.000000</td>\n",
       "      <td>5434.000000</td>\n",
       "      <td>8386.500000</td>\n",
       "      <td>0.534024</td>\n",
       "      <td>130.000000</td>\n",
       "      <td>11797.000000</td>\n",
       "      <td>10048.000000</td>\n",
       "      <td>3299.000000</td>\n",
       "      <td>7413.000000</td>\n",
       "      <td>893.000000</td>\n",
       "      <td>0.067961</td>\n",
       "      <td>36000.000000</td>\n",
       "      <td>27000.000000</td>\n",
       "      <td>47000.000000</td>\n",
       "      <td>4390.000000</td>\n",
       "      <td>4595.000000</td>\n",
       "      <td>1231.000000</td>\n",
       "    </tr>\n",
       "    <tr>\n",
       "      <th>75%</th>\n",
       "      <td>130.000000</td>\n",
       "      <td>5503.000000</td>\n",
       "      <td>38909.750000</td>\n",
       "      <td>14631.000000</td>\n",
       "      <td>22553.750000</td>\n",
       "      <td>0.703299</td>\n",
       "      <td>338.000000</td>\n",
       "      <td>31433.000000</td>\n",
       "      <td>25147.000000</td>\n",
       "      <td>9948.000000</td>\n",
       "      <td>16891.000000</td>\n",
       "      <td>2393.000000</td>\n",
       "      <td>0.087557</td>\n",
       "      <td>45000.000000</td>\n",
       "      <td>33000.000000</td>\n",
       "      <td>60000.000000</td>\n",
       "      <td>14444.000000</td>\n",
       "      <td>11783.000000</td>\n",
       "      <td>3466.000000</td>\n",
       "    </tr>\n",
       "    <tr>\n",
       "      <th>max</th>\n",
       "      <td>173.000000</td>\n",
       "      <td>6403.000000</td>\n",
       "      <td>393735.000000</td>\n",
       "      <td>173809.000000</td>\n",
       "      <td>307087.000000</td>\n",
       "      <td>0.968954</td>\n",
       "      <td>4212.000000</td>\n",
       "      <td>307933.000000</td>\n",
       "      <td>251540.000000</td>\n",
       "      <td>115172.000000</td>\n",
       "      <td>199897.000000</td>\n",
       "      <td>28169.000000</td>\n",
       "      <td>0.177226</td>\n",
       "      <td>110000.000000</td>\n",
       "      <td>95000.000000</td>\n",
       "      <td>125000.000000</td>\n",
       "      <td>151643.000000</td>\n",
       "      <td>148395.000000</td>\n",
       "      <td>48207.000000</td>\n",
       "    </tr>\n",
       "  </tbody>\n",
       "</table>\n",
       "</div>"
      ],
      "text/plain": [
       "             Rank   Major_code          Total            Men          Women  \\\n",
       "count  173.000000   173.000000     172.000000     172.000000     172.000000   \n",
       "mean    87.000000  3879.815029   39370.081395   16723.406977   22646.674419   \n",
       "std     50.084928  1687.753140   63483.491009   28122.433474   41057.330740   \n",
       "min      1.000000  1100.000000     124.000000     119.000000       0.000000   \n",
       "25%     44.000000  2403.000000    4549.750000    2177.500000    1778.250000   \n",
       "50%     87.000000  3608.000000   15104.000000    5434.000000    8386.500000   \n",
       "75%    130.000000  5503.000000   38909.750000   14631.000000   22553.750000   \n",
       "max    173.000000  6403.000000  393735.000000  173809.000000  307087.000000   \n",
       "\n",
       "       ShareWomen  Sample_size       Employed      Full_time      Part_time  \\\n",
       "count  172.000000   173.000000     173.000000     173.000000     173.000000   \n",
       "mean     0.522223   356.080925   31192.763006   26029.306358    8832.398844   \n",
       "std      0.231205   618.361022   50675.002241   42869.655092   14648.179473   \n",
       "min      0.000000     2.000000       0.000000     111.000000       0.000000   \n",
       "25%      0.336026    39.000000    3608.000000    3154.000000    1030.000000   \n",
       "50%      0.534024   130.000000   11797.000000   10048.000000    3299.000000   \n",
       "75%      0.703299   338.000000   31433.000000   25147.000000    9948.000000   \n",
       "max      0.968954  4212.000000  307933.000000  251540.000000  115172.000000   \n",
       "\n",
       "       Full_time_year_round    Unemployed  Unemployment_rate         Median  \\\n",
       "count            173.000000    173.000000         173.000000     173.000000   \n",
       "mean           19694.427746   2416.329480           0.068191   40151.445087   \n",
       "std            33160.941514   4112.803148           0.030331   11470.181802   \n",
       "min              111.000000      0.000000           0.000000   22000.000000   \n",
       "25%             2453.000000    304.000000           0.050306   33000.000000   \n",
       "50%             7413.000000    893.000000           0.067961   36000.000000   \n",
       "75%            16891.000000   2393.000000           0.087557   45000.000000   \n",
       "max           199897.000000  28169.000000           0.177226  110000.000000   \n",
       "\n",
       "              P25th          P75th   College_jobs  Non_college_jobs  \\\n",
       "count    173.000000     173.000000     173.000000        173.000000   \n",
       "mean   29501.445087   51494.219653   12322.635838      13284.497110   \n",
       "std     9166.005235   14906.279740   21299.868863      23789.655363   \n",
       "min    18500.000000   22000.000000       0.000000          0.000000   \n",
       "25%    24000.000000   42000.000000    1675.000000       1591.000000   \n",
       "50%    27000.000000   47000.000000    4390.000000       4595.000000   \n",
       "75%    33000.000000   60000.000000   14444.000000      11783.000000   \n",
       "max    95000.000000  125000.000000  151643.000000     148395.000000   \n",
       "\n",
       "       Low_wage_jobs  \n",
       "count     173.000000  \n",
       "mean     3859.017341  \n",
       "std      6944.998579  \n",
       "min         0.000000  \n",
       "25%       340.000000  \n",
       "50%      1231.000000  \n",
       "75%      3466.000000  \n",
       "max     48207.000000  "
      ]
     },
     "execution_count": 5,
     "metadata": {},
     "output_type": "execute_result"
    }
   ],
   "source": [
    "# statistics of the columns of the dataset\n",
    "recent_grads.describe()"
   ]
  },
  {
   "cell_type": "code",
   "execution_count": 6,
   "metadata": {},
   "outputs": [],
   "source": [
    "# determine the number of rows of the dataset\n",
    "raw_data_count = recent_grads.shape[0] "
   ]
  },
  {
   "cell_type": "markdown",
   "metadata": {},
   "source": [
    "We will drop the rows containing missing values and assign the resulting DataFrame back to recent_grads."
   ]
  },
  {
   "cell_type": "code",
   "execution_count": 7,
   "metadata": {},
   "outputs": [],
   "source": [
    "recent_grads.dropna(inplace = True)"
   ]
  },
  {
   "cell_type": "code",
   "execution_count": 8,
   "metadata": {},
   "outputs": [],
   "source": [
    "# number of the rows after cleaning\n",
    "cleaned_data_count = recent_grads.shape[0] "
   ]
  },
  {
   "cell_type": "code",
   "execution_count": 9,
   "metadata": {},
   "outputs": [
    {
     "name": "stdout",
     "output_type": "stream",
     "text": [
      "173\n",
      "172\n"
     ]
    }
   ],
   "source": [
    "print(raw_data_count)\n",
    "print(cleaned_data_count)"
   ]
  },
  {
   "cell_type": "markdown",
   "metadata": {},
   "source": [
    "We notice that only one row contained missing values and was dropped. Now, we will generate some plots to help us answer some questions regarding the dataset. We start by generating some scatter plots."
   ]
  },
  {
   "cell_type": "code",
   "execution_count": 10,
   "metadata": {},
   "outputs": [
    {
     "data": {
      "text/plain": [
       "<matplotlib.axes._subplots.AxesSubplot at 0x20e98b8f0b8>"
      ]
     },
     "execution_count": 10,
     "metadata": {},
     "output_type": "execute_result"
    },
    {
     "data": {
      "image/png": "[encoded data removed]",
      "text/plain": [
       "<Figure size 432x288 with 1 Axes>"
      ]
     },
     "metadata": {
      "needs_background": "light"
     },
     "output_type": "display_data"
    }
   ],
   "source": [
    "recent_grads.plot(x='ShareWomen', y='Unemployment_rate', kind='scatter')"
   ]
  },
  {
   "cell_type": "code",
   "execution_count": 11,
   "metadata": {},
   "outputs": [
    {
     "data": {
      "text/plain": [
       "<matplotlib.axes._subplots.AxesSubplot at 0x20e9ac0a3c8>"
      ]
     },
     "execution_count": 11,
     "metadata": {},
     "output_type": "execute_result"
    },
    {
     "data": {
      "image/png": "[encoded data removed]",
      "text/plain": [
       "<Figure size 432x288 with 1 Axes>"
      ]
     },
     "metadata": {
      "needs_background": "light"
     },
     "output_type": "display_data"
    }
   ],
   "source": [
    "recent_grads.plot(x='Men', y='Median', kind='scatter')"
   ]
  },
  {
   "cell_type": "code",
   "execution_count": 12,
   "metadata": {},
   "outputs": [
    {
     "data": {
      "text/plain": [
       "<matplotlib.axes._subplots.AxesSubplot at 0x20e9ac0aa58>"
      ]
     },
     "execution_count": 12,
     "metadata": {},
     "output_type": "execute_result"
    },
    {
     "data": {
      "image/png": "[encoded data removed]",
      "text/plain": [
       "<Figure size 432x288 with 1 Axes>"
      ]
     },
     "metadata": {
      "needs_background": "light"
     },
     "output_type": "display_data"
    }
   ],
   "source": [
    "recent_grads.plot(x='Women', y='Median', kind='scatter')"
   ]
  },
  {
   "cell_type": "markdown",
   "metadata": {},
   "source": [
    "Now, we will explore the distribution of the *Median* and *Unemployment_rate* columns of the dataset using histograms."
   ]
  },
  {
   "cell_type": "code",
   "execution_count": 13,
   "metadata": {},
   "outputs": [
    {
     "data": {
      "image/png": "[encoded data removed]",
      "text/plain": [
       "<Figure size 360x864 with 2 Axes>"
      ]
     },
     "metadata": {
      "needs_background": "light"
     },
     "output_type": "display_data"
    }
   ],
   "source": [
    "cols = [\"Median\", \"Unemployment_rate\"]\n",
    "\n",
    "fig = plt.figure(figsize=(5,12))\n",
    "fig.subplots_adjust(hspace = 0.4)\n",
    "for r in range(1,3):\n",
    "    ax = fig.add_subplot(2,1,r)\n",
    "    ax = recent_grads[cols[r-1]].plot(kind='hist')\n",
    "    ax.set_title(cols[r-1])"
   ]
  },
  {
   "cell_type": "markdown",
   "metadata": {},
   "source": [
    "We notice that the mean median salary is around 30 000 while the mean unemployment rate is around 0.06. "
   ]
  },
  {
   "cell_type": "markdown",
   "metadata": {},
   "source": [
    "We can also use bar plots to have an idea of the sharewowem per major for the first 10 rows."
   ]
  },
  {
   "cell_type": "code",
   "execution_count": 14,
   "metadata": {},
   "outputs": [
    {
     "data": {
      "text/plain": [
       "<matplotlib.axes._subplots.AxesSubplot at 0x20e9ae0ce48>"
      ]
     },
     "execution_count": 14,
     "metadata": {},
     "output_type": "execute_result"
    },
    {
     "data": {
      "image/png": "[encoded data removed]",
      "text/plain": [
       "<Figure size 432x288 with 1 Axes>"
      ]
     },
     "metadata": {
      "needs_background": "light"
     },
     "output_type": "display_data"
    },
    {
     "data": {
      "image/png": "[encoded data removed]",
      "text/plain": [
       "<Figure size 432x288 with 1 Axes>"
      ]
     },
     "metadata": {
      "needs_background": "light"
     },
     "output_type": "display_data"
    }
   ],
   "source": [
    "recent_grads[:10].plot.bar(x='Major', y='ShareWomen', legend=False)\n",
    "recent_grads[163:].plot.bar(x='Major', y='ShareWomen', legend=False)"
   ]
  },
  {
   "cell_type": "markdown",
   "metadata": {},
   "source": [
    "We notice that male are predominant in engineering majors while female are more predominant in social science majors."
   ]
  }
 ],
 "metadata": {
  "kernelspec": {
   "display_name": "Python 3",
   "language": "python",
   "name": "python3"
  },
  "language_info": {
   "codemirror_mode": {
    "name": "ipython",
    "version": 3
   },
   "file_extension": ".py",
   "mimetype": "text/x-python",
   "name": "python",
   "nbconvert_exporter": "python",
   "pygments_lexer": "ipython3",
   "version": "3.6.7"
  }
 },
 "nbformat": 4,
 "nbformat_minor": 1
}
